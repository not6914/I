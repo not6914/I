{
  "nbformat": 4,
  "nbformat_minor": 0,
  "metadata": {
    "colab": {
      "provenance": []
    },
    "kernelspec": {
      "name": "python3",
      "display_name": "Python 3"
    },
    "language_info": {
      "name": "python"
    }
  },
  "cells": [
    {
      "cell_type": "code",
      "source": [
        "#access to your google drive\n",
        "from google.colab import drive\n",
        "drive.mount('/content/drive')\n",
        "\n",
        "import os\n",
        "os.chdir(\"/content/drive/MyDrive/Colab Notebooks/data\")  # file path, your path might be different\n",
        "print(os.getcwd())"
      ],
      "metadata": {
        "colab": {
          "base_uri": "https://localhost:8080/"
        },
        "id": "ZXpSsA2TeWuX",
        "outputId": "29e09f15-b659-4266-e6f2-a3547e8a5970"
      },
      "execution_count": 52,
      "outputs": [
        {
          "output_type": "stream",
          "name": "stdout",
          "text": [
            "Drive already mounted at /content/drive; to attempt to forcibly remount, call drive.mount(\"/content/drive\", force_remount=True).\n",
            "/content/drive/MyDrive/Colab Notebooks/data\n"
          ]
        }
      ]
    },
    {
      "cell_type": "code",
      "execution_count": 53,
      "metadata": {
        "id": "8VCF4ZTXeA0u"
      },
      "outputs": [],
      "source": [
        "import numpy as np\n",
        "import pandas as pd\n",
        "from sklearn import metrics\n",
        "from xgboost import XGBClassifier\n",
        "from xgboost import XGBRegressor\n",
        "from sklearn.model_selection import train_test_split, cross_validate, cross_val_predict\n",
        "import matplotlib.pyplot as plt\n",
        "import statistics"
      ]
    },
    {
      "cell_type": "code",
      "source": [
        "#load training data\n",
        "train_data = pd.read_csv('train.csv')\n",
        "\n",
        "print(f\"original shape = {train_data.shape}\")\n",
        "\n",
        "train_data=train_data[train_data['1']<=30]  #removing outliers\n",
        "\n",
        "print(f\"shape = {train_data.shape} after removing outliers\")\n",
        "\n",
        "y = train_data['label'].values\n",
        "X = train_data.drop('label', axis=1).values"
      ],
      "metadata": {
        "colab": {
          "base_uri": "https://localhost:8080/"
        },
        "id": "OjdF-DvgejQ2",
        "outputId": "1259fdf2-b226-4444-d00d-f580ac30a9eb"
      },
      "execution_count": 54,
      "outputs": [
        {
          "output_type": "stream",
          "name": "stdout",
          "text": [
            "original shape = (500000, 36)\n",
            "shape = (450000, 36) after removing outliers\n"
          ]
        }
      ]
    },
    {
      "cell_type": "code",
      "source": [
        "model = XGBClassifier(\n",
        "    n_estimators=75,\n",
        ")\n",
        "scores = cross_validate(model, X, y, cv=5, scoring='f1', return_estimator=True)\n",
        "\n",
        "print(f\"test score mean = {statistics.mean(scores['test_score'])}\")\n",
        "print(scores.keys())\n",
        "print(len(scores['estimator']))"
      ],
      "metadata": {
        "colab": {
          "base_uri": "https://localhost:8080/"
        },
        "id": "blQ-Fr0Tes4V",
        "outputId": "514bf07b-2b08-4c7c-9026-72ca58885691"
      },
      "execution_count": 55,
      "outputs": [
        {
          "output_type": "stream",
          "name": "stdout",
          "text": [
            "test score mean=0.6450316821284454\n",
            "dict_keys(['fit_time', 'score_time', 'estimator', 'test_score'])\n",
            "5\n"
          ]
        }
      ]
    },
    {
      "cell_type": "code",
      "source": [
        "#load test data & predict\n",
        "print(scores['test_score'])\n",
        "model=scores['estimator'][-1]   #select the model which has the best f1 score\n",
        "test_data = pd.read_csv('test.csv').drop('id', axis=1).values\n",
        "print(test_data.shape)\n",
        "test_result = model.predict(test_data)"
      ],
      "metadata": {
        "id": "_1T6jXCFfK6t",
        "colab": {
          "base_uri": "https://localhost:8080/"
        },
        "outputId": "1b1b281a-8017-4811-c3af-9fcbf336bbba"
      },
      "execution_count": 61,
      "outputs": [
        {
          "output_type": "stream",
          "name": "stdout",
          "text": [
            "[0.64540338 0.64573675 0.64268557 0.64489748 0.64643523]\n",
            "(200000, 35)\n"
          ]
        }
      ]
    },
    {
      "cell_type": "code",
      "source": [
        "print(type(test_result))\n",
        "print(test_result.shape)\n",
        "print(test_result[:30])"
      ],
      "metadata": {
        "id": "AwGuBTOyfOVE",
        "colab": {
          "base_uri": "https://localhost:8080/"
        },
        "outputId": "9f6b39b4-992e-4b58-ec9e-81c53c9d0589"
      },
      "execution_count": 62,
      "outputs": [
        {
          "output_type": "stream",
          "name": "stdout",
          "text": [
            "<class 'numpy.ndarray'>\n",
            "(200000,)\n",
            "[0 0 0 0 0 1 0 0 1 0 0 0 0 0 0 0 0 0 0 1 0 1 0 0 0 1 0 0 0 0]\n"
          ]
        }
      ]
    },
    {
      "cell_type": "code",
      "source": [
        "#write output\n",
        "with open(\"output.csv\",'w') as fh:\n",
        "    fh.write('id,label\\n')\n",
        "    for idx in range(len(test_result)):\n",
        "        fh.write(f'{idx},{int(test_result[idx])}\\n')"
      ],
      "metadata": {
        "id": "jIJrjP63fXlm"
      },
      "execution_count": 63,
      "outputs": []
    },
    {
      "cell_type": "code",
      "source": [
        "'''\n",
        "refs:\n",
        "https://scikit-learn.org/stable/modules/classes.html#model-validation\n",
        "https://scikit-learn.org/stable/modules/cross_validation.html#cross-validation-evaluating-estimator-performance\n",
        "\n",
        "https://www.kaggle.com/code/dansbecker/xgboost/notebook\n",
        "https://xgboost.readthedocs.io/en/stable/python/index.html\n",
        "\n",
        "\n",
        "to be tried:\n",
        "https://scikit-learn.org/stable/modules/generated/sklearn.ensemble.RandomForestClassifier.html\n",
        "https://scikit-learn.org/stable/modules/generated/sklearn.ensemble.RandomForestRegressor.html\n",
        "'''"
      ],
      "metadata": {
        "id": "keYPL8AZjERa",
        "colab": {
          "base_uri": "https://localhost:8080/",
          "height": 104
        },
        "outputId": "ade07c9c-240c-46bd-cad5-acfc5445348b"
      },
      "execution_count": 59,
      "outputs": [
        {
          "output_type": "execute_result",
          "data": {
            "text/plain": [
              "'\\nrefs:\\nhttps://scikit-learn.org/stable/modules/classes.html#model-validation\\nhttps://scikit-learn.org/stable/modules/cross_validation.html#cross-validation-evaluating-estimator-performance\\n\\nhttps://machinelearningmastery.com/develop-first-xgboost-model-python-scikit-learn/\\nhttps://www.kaggle.com/code/dansbecker/xgboost/notebook\\nhttps://xgboost.readthedocs.io/en/stable/python/index.html\\n\\n\\nto be tried:\\nhttps://www.datacamp.com/tutorial/xgboost-in-python\\n\\nhttps://scikit-learn.org/stable/modules/generated/sklearn.ensemble.RandomForestClassifier.html\\nhttps://scikit-learn.org/stable/modules/generated/sklearn.ensemble.RandomForestRegressor.html\\n'"
            ],
            "application/vnd.google.colaboratory.intrinsic+json": {
              "type": "string"
            }
          },
          "metadata": {},
          "execution_count": 59
        }
      ]
    }
  ]
}